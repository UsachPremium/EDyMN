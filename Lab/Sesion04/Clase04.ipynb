{
 "cells": [
  {
   "cell_type": "code",
   "execution_count": 10,
   "metadata": {},
   "outputs": [],
   "source": [
    "import numpy as np\n",
    "import matplotlib.pyplot as plt"
   ]
  },
  {
   "cell_type": "markdown",
   "metadata": {},
   "source": [
    "# Método de bisección\n",
    "\n",
    "Este método de busqueda por bisección es utilizado para encontrar raíces de una\n",
    "función continua de variable real. La única condición es que la función cambie de\n",
    "signo en el intervalo en que buscamos. La existencia de la raíz de la función está\n",
    "garantizada de acuerdo al teorema de Bolzano:\n",
    "\n",
    "> <b>Teorema de Bolzano </b>: \n",
    "Si $f : [a, b] \\to \\mathbb{R}$, es una función continua en $[a, b]$ y $f(a)f(b) < 0$, entonces\n",
    "existe $x_0 \\in  [a, b]$ tal que $f(x_0) = 0$.\n",
    "\n",
    "El método consiste en bisecar el intervalo $[a, b]$, estudiar los signos de $f$ en los\n",
    "extremos de los nuevos intervalos de manera que podamos afirmar la existencia de\n",
    "una raíz en un intervalo más pequeño como consecuencia del teorema de Bolzano.\n",
    "\n",
    "## Algoritmo\n",
    "\n",
    "Datos de entrada: $a, b,$ función, tolerancia.\n",
    "\n",
    "calcular $x_0 =\\dfrac{a+b}{2}$\n",
    "\n",
    "Para $i = 0,1,2, ...$ \n",
    "\n",
    "* Si $f(a)f(x_i) < 0$, entonces $b = x_i$\n",
    "* Si $f(a)f(x_i) > 0$, entonces $a = x_i$\n",
    "* Si $f(a)f(x_i) = 0$, entonces $x_{i+1} = x_{i}$\n",
    "\n",
    "Hasta que $|x_{i+1}-x_{i}|< tolerancia$"
   ]
  },
  {
   "cell_type": "markdown",
   "metadata": {},
   "source": [
    "## Ejemplo 1:\n",
    "\n",
    "* a) Elabore una función en Python que permita encontrar una aproximación de una raíz de una función $f:[a,b] \\to \\mathbb{R}$ usando el método de bisección, considerando como datos de entrada $a,b$ y la tolerancia.\n",
    "\n",
    "* b) Utilice la función anterior y el teorema de Bolzano para encontrar las cuatro raíces de $f(x)=10x^3-2x^2+1-e^{2x}$. Ayuda: las raíces se encuentran en el intervalo $[-1,3]$."
   ]
  },
  {
   "cell_type": "code",
   "execution_count": null,
   "metadata": {},
   "outputs": [],
   "source": []
  },
  {
   "cell_type": "markdown",
   "metadata": {},
   "source": [
    "## Ejemplo 2:\n",
    "\n",
    "La ecuación $\\ln(2x) = \\dfrac{x}{2}$ tiene dos soluciones. Utilice el método de la bisección con un error máximo de $10^{-8}$ para estimar las soluciones de la ecuación. Justifique su razonamiento para aplicar el método:\n",
    "\n",
    "   * Formulación de la función a utilizar.\n",
    "   * Elección de intervalo.\n",
    "   * Elección de la tolerancia."
   ]
  },
  {
   "cell_type": "code",
   "execution_count": null,
   "metadata": {},
   "outputs": [],
   "source": []
  },
  {
   "cell_type": "markdown",
   "metadata": {},
   "source": [
    "## Ejemplo 3*:\n",
    "\n",
    "Encuentre la solución(es) a la ecuación:\n",
    "$$\\dfrac{1}{1-x}=e^x$$\n",
    "en el intervalo $[-0.5,\\, 1]$ mediante el método de bisección, si es posible. En caso contrario, justifique."
   ]
  },
  {
   "cell_type": "code",
   "execution_count": null,
   "metadata": {},
   "outputs": [],
   "source": []
  },
  {
   "cell_type": "markdown",
   "metadata": {},
   "source": [
    "## Ejemplo 4:\n",
    "\n",
    "Encontrar utilizando el método de bisección una aproximación de $\\sqrt[3]{7}$."
   ]
  },
  {
   "cell_type": "code",
   "execution_count": null,
   "metadata": {},
   "outputs": [],
   "source": []
  },
  {
   "cell_type": "markdown",
   "metadata": {},
   "source": [
    "## Ejemplo 5:\n",
    "\n",
    "Una canaleta  de largo $L$ tiene por sección tranversal forma de semicircunferencia de radio $r$ (ambos medidos en cm), como muestra la figura a contianuación:\n",
    "\n",
    "<table><tr>\n",
    "<td> <img src=\"C1.png\" alt=\"Drawing\" style=\"width: 250px;\"/> </td>\n",
    "<td> <img src=\"C2.png\" alt=\"Drawing\" style=\"width: 250px;\"/> </td>\n",
    "</tr></table>\n",
    "\n",
    "Cuando se llena de agua hasta una distancia $h$ de su parte superior, el volumen $V$ de agua es\n",
    "\n",
    "$$V=L\\left[ \\frac{1}{2}\\pi r^2 - r^2\\arcsin\\left(\\frac{h}{r} \\right) - h\\sqrt{r^2-h^2} \\right]$$\n",
    "\n",
    "Suponga que el $L=300 [m]$, $r=30 [cm]$ y el volumen de agua es $V=216 [cm^3]$. Encuentre una aproximación de la altura del agua desde la base de la canaleta.\n"
   ]
  },
  {
   "cell_type": "code",
   "execution_count": null,
   "metadata": {},
   "outputs": [],
   "source": []
  },
  {
   "cell_type": "markdown",
   "metadata": {},
   "source": [
    "# Newtwon Raphson\n",
    "\n",
    "Este método es uno de los más populares para encontrar los ceros de una función, pero\n",
    "requiere del conocimiento de su derivada. La regla principal del algoritmo consiste\n",
    "en que, dado un punto $x_k$ cercano a la raíz de $f$, se determina la recta tangente a $f$\n",
    "en $(x_k, f(x_k))$: <br>\n",
    "\n",
    "$$y = f(x_k) + f'(x_k)(x - x_k)$$\n",
    "\n",
    "Luego, se define la iteración siguiente $x_{k+1}$ como el punto de intersección entre esa\n",
    "recta y el eje $x$, es decir, $x_{k+1}$ se obtiene al despejar\n",
    "\n",
    "$$0 = f(x_k) + f(x_k)(x_{k+1} - x_k)$$\n",
    "\n",
    "esto es\n",
    "$$ x_{k+1} = x_k - \\dfrac{f(x_k)}{f'(x_k)}  $$ \n",
    "\n",
    "## Algoritmo\n",
    "\n",
    "Datos de entrada: $x_0, f , tolerancia$\n",
    "\n",
    "Para $k = 0, 1, 2, ...$\n",
    "\n",
    "* calcular $x_{k+1} = x_k - \\dfrac{f(x_k)}{f'(x_k)}$\n",
    "\n",
    "Hasta que $| x_{k+1} - x_k | < tolerancia$"
   ]
  },
  {
   "cell_type": "markdown",
   "metadata": {},
   "source": [
    "## Ejemplo 6:\n",
    "\n",
    "Elabore una función en Python que permita encontrar una aproximación de una raíz de una función $f:[a,b] \\to \\mathbb{R}$ usando el método de Newton-Raphson, considerando como datos de entrada un valor cercano a la raíz $x0$, la función en cuestión $f$, su derivada $df$ y la tolerancia $t$."
   ]
  },
  {
   "cell_type": "code",
   "execution_count": null,
   "metadata": {},
   "outputs": [],
   "source": []
  },
  {
   "cell_type": "markdown",
   "metadata": {},
   "source": [
    "## Ejercicio:\n",
    "\n",
    "Encuentre aproximaciones de los ejemplos previos, esta vez utilizando el método de Newton-Raphson, justificando su elección de $x_0$."
   ]
  },
  {
   "cell_type": "code",
   "execution_count": null,
   "metadata": {},
   "outputs": [],
   "source": []
  }
 ],
 "metadata": {
  "kernelspec": {
   "display_name": "Python 3 (ipykernel)",
   "language": "python",
   "name": "python3"
  },
  "language_info": {
   "codemirror_mode": {
    "name": "ipython",
    "version": 3
   },
   "file_extension": ".py",
   "mimetype": "text/x-python",
   "name": "python",
   "nbconvert_exporter": "python",
   "pygments_lexer": "ipython3",
   "version": "3.9.13"
  }
 },
 "nbformat": 4,
 "nbformat_minor": 4
}
