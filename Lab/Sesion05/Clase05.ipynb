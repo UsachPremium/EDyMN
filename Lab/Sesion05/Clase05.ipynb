{
  "metadata": {
    "kernelspec": {
      "name": "python",
      "display_name": "Python (Pyodide)",
      "language": "python"
    },
    "language_info": {
      "codemirror_mode": {
        "name": "python",
        "version": 3
      },
      "file_extension": ".py",
      "mimetype": "text/x-python",
      "name": "python",
      "nbconvert_exporter": "python",
      "pygments_lexer": "ipython3",
      "version": "3.8"
    }
  },
  "nbformat_minor": 4,
  "nbformat": 4,
  "cells": [
    {
      "cell_type": "code",
      "source": "import matplotlib.pyplot as plt\nimport sympy as sp",
      "metadata": {
        "trusted": true
      },
      "execution_count": 65,
      "outputs": []
    },
    {
      "cell_type": "markdown",
      "source": "# Transformada de Laplace\n\nSi $f(t)$ es una función definida en $[0,\\infty[$ con $t$ y $f$ reales, entonces la transformada de Laplace de la función $f$ se denota por $\\mathcal{L}\\lbrace f(t) \\rbrace = F(s)$ y se define como la integral\n$$ \\mathcal{L}\\lbrace f(t) \\rbrace = F(s) = \\int_{0}^{\\infty} f(t) e^{-st} dt $$\nsiempre que la anterior sea convergente.",
      "metadata": {}
    },
    {
      "cell_type": "markdown",
      "source": "# Ejemplo 1\n\nIntegrando de manera directa, calcular $\\mathcal{L}\\lbrace t^3 \\rbrace = \\displaystyle\\int_{0}^{\\infty} t^3 e^{-st } dt$",
      "metadata": {}
    },
    {
      "cell_type": "code",
      "source": "t,s = sp.symbols(\"t,s\", real= True)\nsp.integrate(t**3*sp.exp(-s*t),(t,0,sp.oo))",
      "metadata": {
        "trusted": true
      },
      "execution_count": 166,
      "outputs": [
        {
          "execution_count": 166,
          "output_type": "execute_result",
          "data": {
            "text/plain": "Piecewise((6/s**4, Abs(arg(s)) < pi/2), (Integral(t**3*exp(-s*t), (t, 0, oo)), True))",
            "text/latex": "$\\displaystyle \\begin{cases} \\frac{6}{s^{4}} & \\text{for}\\: \\left|{\\arg{\\left(s \\right)}}\\right| < \\frac{\\pi}{2} \\\\\\int\\limits_{0}^{\\infty} t^{3} e^{- s t}\\, dt & \\text{otherwise} \\end{cases}$"
          },
          "metadata": {}
        }
      ]
    },
    {
      "cell_type": "markdown",
      "source": "Sympy tiene una función llamada `laplace_transform` que hace esto de manera eficiente y que también retorna condiciones de convergencia de la integral.",
      "metadata": {}
    },
    {
      "cell_type": "code",
      "source": "sp.laplace_transform(t**3,t,s)",
      "metadata": {
        "trusted": true
      },
      "execution_count": 4,
      "outputs": [
        {
          "execution_count": 4,
          "output_type": "execute_result",
          "data": {
            "text/plain": "(6/s**4, 0, True)"
          },
          "metadata": {}
        }
      ]
    },
    {
      "cell_type": "markdown",
      "source": "Si deseamos solo la función sin importar las condiciones de convergencia, agregamos `noconds=True`",
      "metadata": {}
    },
    {
      "cell_type": "code",
      "source": "sp.laplace_transform(t**3,t,s, noconds=True)",
      "metadata": {
        "trusted": true
      },
      "execution_count": 5,
      "outputs": [
        {
          "execution_count": 5,
          "output_type": "execute_result",
          "data": {
            "text/plain": "6/s**4",
            "text/latex": "$\\displaystyle \\frac{6}{s^{4}}$"
          },
          "metadata": {}
        }
      ]
    },
    {
      "cell_type": "markdown",
      "source": "# Ejemplo 2\n\nCalcular transformada de Laplace de $f(t)=\\cos t$ y de $g(t)=\\cosh(2t)$",
      "metadata": {}
    },
    {
      "cell_type": "code",
      "source": "f = sp.cos(t)\nsp.laplace_transform(f,t,s,noconds=True)",
      "metadata": {
        "trusted": true
      },
      "execution_count": 6,
      "outputs": [
        {
          "execution_count": 6,
          "output_type": "execute_result",
          "data": {
            "text/plain": "s/(s**2 + 1)",
            "text/latex": "$\\displaystyle \\frac{s}{s^{2} + 1}$"
          },
          "metadata": {}
        }
      ]
    },
    {
      "cell_type": "code",
      "source": "g = sp.cosh(2*t)\nsp.laplace_transform(g,t,s,noconds=True)",
      "metadata": {
        "trusted": true
      },
      "execution_count": 7,
      "outputs": [
        {
          "execution_count": 7,
          "output_type": "execute_result",
          "data": {
            "text/plain": "s/(s**2 - 4)",
            "text/latex": "$\\displaystyle \\frac{s}{s^{2} - 4}$"
          },
          "metadata": {}
        }
      ]
    },
    {
      "cell_type": "markdown",
      "source": "# Ejemplo 3\nCalcular la transformada inversa de Laplace $F(s)= \\dfrac{1}{s}$",
      "metadata": {}
    },
    {
      "cell_type": "code",
      "source": "t = sp.Symbol(\"t\")\nF = 1/s\nsp.inverse_laplace_transform(F,s,t,noconds=True)\n\n# escalón unitario elimina los numeros negativos",
      "metadata": {
        "trusted": true
      },
      "execution_count": 109,
      "outputs": [
        {
          "execution_count": 109,
          "output_type": "execute_result",
          "data": {
            "text/plain": "Heaviside(t)",
            "text/latex": "$\\displaystyle \\theta\\left(t\\right)$"
          },
          "metadata": {}
        }
      ]
    },
    {
      "cell_type": "markdown",
      "source": "# Ejemplo 4\n\nCalcular transformada de Laplace de $f(t)=e^{-\\alpha t}$ con $\\alpha \\in \\mathbb{R}^+$. Utilice su resultado para calcular su inversa.",
      "metadata": {}
    },
    {
      "cell_type": "code",
      "source": "a = sp.Symbol(\"alpha\", real=True, positive = True)\nf = sp.exp(-a*t)\nF = sp.laplace_transform(f,t,s,noconds=True)\nF",
      "metadata": {
        "trusted": true
      },
      "execution_count": 108,
      "outputs": [
        {
          "execution_count": 108,
          "output_type": "execute_result",
          "data": {
            "text/plain": "1/(alpha + s)",
            "text/latex": "$\\displaystyle \\frac{1}{\\alpha + s}$"
          },
          "metadata": {}
        }
      ]
    },
    {
      "cell_type": "code",
      "source": "sp.inverse_laplace_transform(F,s,t,noconds=True)",
      "metadata": {
        "trusted": true
      },
      "execution_count": 107,
      "outputs": [
        {
          "execution_count": 107,
          "output_type": "execute_result",
          "data": {
            "text/plain": "DiracDelta(t)/s",
            "text/latex": "$\\displaystyle \\frac{\\delta\\left(t\\right)}{s}$"
          },
          "metadata": {}
        }
      ]
    },
    {
      "cell_type": "markdown",
      "source": "# Ejemplo 5\n\nCalcular la transformada de Laplace de \n$$ g(t) = \\cos At + t\\sin Bt, $$\ncon $A,B \\in \\mathbb{R}$",
      "metadata": {}
    },
    {
      "cell_type": "code",
      "source": "t, s, A, B = sp.symbols('t s A B', real=True)\n\ng = sp.cos(A*t) + t*sp.sin(B*t)\n\nG = sp.laplace_transform(g, t, s, noconds= True)\nG_real = sp.re(G)\nG_real",
      "metadata": {
        "trusted": true
      },
      "execution_count": 201,
      "outputs": [
        {
          "execution_count": 201,
          "output_type": "execute_result",
          "data": {
            "text/plain": "2*B*s/(B**2 + s**2)**2 + s/(A**2 + s**2)",
            "text/latex": "$\\displaystyle \\frac{2 B s}{\\left(B^{2} + s^{2}\\right)^{2}} + \\frac{s}{A^{2} + s^{2}}$"
          },
          "metadata": {}
        }
      ]
    },
    {
      "cell_type": "code",
      "source": "sp.inverse_laplace_transform(G_real,s,t, noconds= True)",
      "metadata": {
        "trusted": true
      },
      "execution_count": 202,
      "outputs": [
        {
          "execution_count": 202,
          "output_type": "execute_result",
          "data": {
            "text/plain": "t*sin(B*t)*Heaviside(t) + cos(A*t)*Heaviside(t)",
            "text/latex": "$\\displaystyle t \\sin{\\left(B t \\right)} \\theta\\left(t\\right) + \\cos{\\left(A t \\right)} \\theta\\left(t\\right)$"
          },
          "metadata": {}
        }
      ]
    },
    {
      "cell_type": "markdown",
      "source": "# Ejemplo 6\n\nSuponga que $f:[0,\\infty[ \\to \\mathbb{R}$ es continua por partes y de orden exponencial (posee transformada de Laplace). Verifique que:\n\n$$\\mathcal{L}\\lbrace t f(t) \\rbrace = -\\dfrac{d}{ds}\\left[ f(t) \\right]$$\n\npara una función $f$ a elección.",
      "metadata": {}
    },
    {
      "cell_type": "code",
      "source": "",
      "metadata": {},
      "execution_count": null,
      "outputs": []
    },
    {
      "cell_type": "markdown",
      "source": "# Ejemplo 7\n\nCalcular la transformada de Laplace inversa de \n$$ H(s) = \\dfrac{(s+1)(s-1)}{(s+4)^2} $$",
      "metadata": {}
    },
    {
      "cell_type": "code",
      "source": "",
      "metadata": {},
      "execution_count": null,
      "outputs": []
    },
    {
      "cell_type": "markdown",
      "source": "# Ejemplo 8\n\nUsando transformada de la Laplace, resuelva:\n$$ y''+y+1=e^{t}\\sin(2t)+\\cos(2t-1) \\quad ; y(0)=1 ; y'(0)=2$$",
      "metadata": {}
    },
    {
      "cell_type": "code",
      "source": "",
      "metadata": {},
      "execution_count": null,
      "outputs": []
    },
    {
      "cell_type": "markdown",
      "source": "# Ejemplo 9\n\nUsando transformada de la Laplace, resuelva:\n$$ y''+y=\\frac{1}{\\sqrt{t}} + \\sqrt{t}  \\quad ; y(0)=1 ; y'(0)=2$$",
      "metadata": {}
    },
    {
      "cell_type": "code",
      "source": "",
      "metadata": {},
      "execution_count": null,
      "outputs": []
    },
    {
      "cell_type": "markdown",
      "source": "# Ejemplo 10\n\nUsando transformada de la Laplace, resuelva:\n$$ ty''+y'+y = 0$$",
      "metadata": {}
    },
    {
      "cell_type": "code",
      "source": "",
      "metadata": {},
      "execution_count": null,
      "outputs": []
    }
  ]
}