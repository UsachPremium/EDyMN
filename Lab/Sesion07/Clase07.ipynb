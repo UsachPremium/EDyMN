{
 "cells": [
  {
   "cell_type": "code",
   "execution_count": 3,
   "metadata": {},
   "outputs": [],
   "source": [
    "import numpy as np\n",
    "import matplotlib.pyplot as plt"
   ]
  },
  {
   "cell_type": "markdown",
   "metadata": {},
   "source": [
    "# Métodos Numéricos EDO de orden Superior\n",
    "\n",
    "Una ecuación diferencial de orden $n$ \n",
    "\n",
    "$$ y^{(n)} = f(x,y,y',..., y^{(n-1)}) $$\n",
    "\n",
    "se puede expresar como un sistema de $n$ ecuaciones de primer orden al definir\n",
    "\n",
    "$$ \\vec{u} = \\begin{pmatrix} u_1(x) \\\\ u_2(x) \\\\ \\vdots \\\\ u_n(x) \\end{pmatrix} =  \\begin{pmatrix} y(x) \\\\ y'(x) \\\\ \\vdots \\\\ y^{(n-1)}(x) \\end{pmatrix} $$\n",
    "\n",
    "así, derivando resulta\n",
    "\n",
    "$$  \\vec{u} ' = \\begin{pmatrix} u_1'(x) \\\\ u_2'(x) \\\\ \\vdots \\\\ u_n'(x) \\end{pmatrix} = \\begin{pmatrix} u_2(x) \\\\ u_3(x) \\\\ \\vdots \\\\ f(x,u_1,u_2 ... ,u_n ) \\end{pmatrix} =: \\vec{F} (x, \\vec{u}) $$\n",
    "\n",
    "llegado a este punto, es posible aplicar cualquiera de los métodos vistos, pero de manera vectorial.\n",
    "\n",
    "# Método de Euler Vectorial\n",
    "\n",
    "El algortimo es idéntico salvo que esta vez es vectorial:\n",
    "\n",
    "Dada una EDO de orden $n$, definiendo variables axuliares y reescribiendo el sistema como \n",
    "$$ \\vec{u} \\, '= \\vec{F}(x,\\vec{u})$$\n",
    "con condiciones iniciales \n",
    "$$ \\vec{u}(x_0) =  \\begin{pmatrix} u_1(x_0) \\\\ u_2(x_0) \\\\ \\vdots \\\\ u_n(x_0) \\end{pmatrix} = \\begin{pmatrix} u_1^0 \\\\ u_2^0 \\\\ \\vdots \\\\ u_n^0 \\end{pmatrix}  $$\n",
    "\n",
    "el algoritmo asociado al método de Euler está dado por:\n",
    "\n",
    "Para $i=0,1, ... , k-1$ realizar <br>\n",
    "*    $ x_i = x_0+ih $ <br>\n",
    "*    $\\vec{u}_{i+1}= \\vec{u}_i +h \\vec{F}(x_i , \\vec{u}_i) $ <br>\n",
    "    \n",
    "Fin"
   ]
  },
  {
   "cell_type": "markdown",
   "metadata": {},
   "source": [
    "# Ejemplo 1\n",
    "\n",
    "Considere la EDO \n",
    "\n",
    "$$  y'' + x y'-3y = e^x $$\n",
    "\n",
    "con condiciones inciales $y(0) = 1 ; y'(0)=4$. Mediante el método de Euler vectorial, encontrar una aproximación de $y(10)$ utilizando 100 iteraciones."
   ]
  },
  {
   "cell_type": "code",
   "execution_count": 25,
   "metadata": {},
   "outputs": [],
   "source": [
    "def euler_vec(f, x0, xn, u0, v0,  n): \n",
    "    X = np.linspace(x0,xn,n+1)         \n",
    "    u,v = np.linspace(x0,xn,n+1),np.linspace(x0,xn,n+1)                 \n",
    "    u[0] = u0\n",
    "    v[0] = v0\n",
    "    h = (xn-x0)/n      \n",
    "    \n",
    "    for i in range(n):\n",
    "        u[i+1],v[i+1] = u[i]+h*v[i], v[i]+h*f(X[i],u[i],v[i])\n",
    "    return [u,v]"
   ]
  },
  {
   "cell_type": "code",
   "execution_count": 26,
   "metadata": {},
   "outputs": [
    {
     "data": {
      "text/plain": [
       "[array([1.00000000e+00, 1.40000000e+00, 1.84000000e+00, 2.32865171e+00,\n",
       "        2.87494441e+00, 3.48820647e+00, 4.17810463e+00, 4.95464129e+00,\n",
       "        5.82815007e+00, 6.80929001e+00, 7.90903866e+00, 9.13868466e+00,\n",
       "        1.05098200e+01, 1.20343327e+01, 1.37243997e+01, 1.55924809e+01,\n",
       "        1.76513147e+01, 1.99139147e+01, 2.23935685e+01, 2.51038381e+01,\n",
       "        2.80585627e+01, 3.12718637e+01, 3.47581519e+01, 3.85321373e+01,\n",
       "        4.26088405e+01, 4.70036079e+01, 5.17321282e+01, 5.68104515e+01,\n",
       "        6.22550120e+01, 6.80826521e+01, 7.43106497e+01, 8.09567491e+01,\n",
       "        8.80391935e+01, 9.55767621e+01, 1.03588810e+02, 1.12095311e+02,\n",
       "        1.21116907e+02, 1.30674959e+02, 1.40791601e+02, 1.51489808e+02,\n",
       "        1.62793455e+02, 1.74727399e+02, 1.87317551e+02, 2.00590965e+02,\n",
       "        2.14575935e+02, 2.29302095e+02, 2.44800531e+02, 2.61103906e+02,\n",
       "        2.78246587e+02, 2.96264797e+02, 3.15196767e+02, 3.35082914e+02,\n",
       "        3.55966022e+02, 3.77891452e+02, 4.00907361e+02, 4.25064950e+02,\n",
       "        4.50418726e+02, 4.77026793e+02, 5.04951168e+02, 5.34258127e+02,\n",
       "        5.65018581e+02, 5.97308485e+02, 6.31209292e+02, 6.66808440e+02,\n",
       "        7.04199885e+02, 7.43484692e+02, 7.84771669e+02, 8.28178068e+02,\n",
       "        8.73830346e+02, 9.21864998e+02, 9.72429470e+02, 1.02568315e+03,\n",
       "        1.08179847e+03, 1.14096208e+03, 1.20337615e+03, 1.26925982e+03,\n",
       "        1.33885070e+03, 1.41240664e+03, 1.49020754e+03, 1.57255743e+03,\n",
       "        1.65978665e+03, 1.75225433e+03, 1.85035105e+03, 1.95450173e+03,\n",
       "        2.06516889e+03, 2.18285608e+03, 2.30811177e+03, 2.44153349e+03,\n",
       "        2.58377248e+03, 2.73553868e+03, 2.89760624e+03, 3.07081956e+03,\n",
       "        3.25609992e+03, 3.45445267e+03, 3.66697518e+03, 3.89486553e+03,\n",
       "        4.13943201e+03, 4.40210357e+03, 4.68444121e+03, 4.98815051e+03,\n",
       "        5.31509539e+03]),\n",
       " array([   4.        ,    4.4       ,    4.88651709,    5.46292703,\n",
       "           6.13262061,    6.89898158,    7.76536657,    8.73508784,\n",
       "           9.81139935,   10.99748652,   12.29646004,   13.71135382,\n",
       "          15.2451269 ,   16.90066938,   18.68081185,   20.58833809,\n",
       "          22.62600054,   24.79653809,   27.10269577,   29.54724584,\n",
       "          32.13301   ,   34.86288242,   37.73985321,   40.76703243,\n",
       "          43.94767439,   47.28520233,   50.78323352,   54.44560506,\n",
       "          58.27640032,   62.27997652,   66.46099348,   70.82444404,\n",
       "          75.37568624,   80.1204777 ,   85.06501258,   90.21596126,\n",
       "          95.58051335,  101.16642416,  106.98206523,  113.03647919,\n",
       "         119.33943947,  125.90151532,  132.73414261,  139.84970109,\n",
       "         147.26159854,  154.98436264,  163.03374112,  171.42681119,\n",
       "         180.18209883,  189.31970913,  198.86146858,  208.83108043,\n",
       "         219.25429443,  230.15909221,  241.57588987,  253.53775926,\n",
       "         266.08066989,  279.24375326,  293.06959187,  307.60453504,\n",
       "         322.89904437,  339.00807137,  355.99147045,  373.91445062,\n",
       "         392.8480696 ,  412.86977422,  434.06399175,  456.52277681,\n",
       "         480.34651931,  505.64471909,  532.53683381,  561.15320689,\n",
       "         591.63608336,  624.1407219 ,  658.83661229,  695.90880848,\n",
       "         735.55938821,  778.00905158,  823.4988716 ,  872.29221161,\n",
       "         924.67682551,  980.9671584 , 1041.50686698, 1106.6715809 ,\n",
       "        1176.87192825, 1252.55685084, 1334.21723705, 1422.38990324,\n",
       "        1517.66195718, 1620.67558062, 1732.13327163, 1852.80359118,\n",
       "        1983.52746297, 2125.22508006, 2278.90347746, 2445.66483511,\n",
       "        2626.71558248, 2823.37638267, 3037.09308157, 3269.44871618,\n",
       "        3522.1766852 ])]"
      ]
     },
     "execution_count": 26,
     "metadata": {},
     "output_type": "execute_result"
    }
   ],
   "source": [
    "def f(x,u,v): return np.exp(x)+3*u-x*v\n",
    "\n",
    "euler_vec(f,0,10,1,4,100)"
   ]
  },
  {
   "cell_type": "markdown",
   "metadata": {},
   "source": [
    "# Ejercicio 1\n",
    "\n",
    "Considere la dinámica del péndulo\n",
    "\n",
    "<img src=https://upload.wikimedia.org/wikipedia/commons/2/2b/Moglfm1309_pendulosimple.jpg>\n",
    "\n",
    "modelada por la EDO\n",
    "$$ \\theta'' + \\frac{g}{L} \\sin \\theta = 0 \\quad ; \\quad t \\in [0, \\pi] $$\n",
    "\n",
    "\n",
    "Suponga que el péndulo se posiciona en un ángulo de 45° respecto a la vertical, y se suelta sin velocidad, es decir,\n",
    "\n",
    "$$ \\theta(0)=\\frac{\\pi}{4} \\quad ; \\quad \\theta'(0)=0 $$\n",
    "\n",
    "\n",
    "Si el largo $L$ del péndulo es $3 [m]$ y el tiempo $t$ está medido en segundos. Estime el ángulo que forma el péndulo respecto a la vertical al cabo de 4 segundos.\n"
   ]
  },
  {
   "cell_type": "code",
   "execution_count": null,
   "metadata": {},
   "outputs": [],
   "source": []
  },
  {
   "cell_type": "markdown",
   "metadata": {},
   "source": [
    "# Ejercicio 2\n",
    "\n",
    "Modifique el método mostrado en el ejemplo 1 para utilizarlo en una EDO de orden 3. Luego estime el valor de $y(20)$ del PVI\n",
    "\n",
    "$$ 3y'''+(x^2+1)y'' + x^4y' + y = 1+x+x^2,  $$\n",
    "\n",
    "$y(1)=1, y'(1)=1 , y''(1)=0$"
   ]
  },
  {
   "cell_type": "code",
   "execution_count": null,
   "metadata": {},
   "outputs": [],
   "source": []
  },
  {
   "cell_type": "markdown",
   "metadata": {},
   "source": [
    "# RK4 Vectorial\n",
    "\n",
    "Para $i = 0, ... , k−1$ realizar <br>\n",
    "\n",
    "*    $ x_i = x_0+ih $ <br>\n",
    "\n",
    "*    $\\vec{K_1}= h \\vec{F}(x_i, \\vec{u}_i) $ <br>\n",
    "*    $\\vec{K_2}= h \\vec{F} \\left( x_i + \\frac{h}{2}, \\vec{u}_i + \\frac{1}{2}\\vec{K_1} \\right)$    <br>\n",
    "*    $\\vec{K_3}= h \\vec{F} \\left( x_i + \\frac{h}{2}, \\vec{u}_i + \\frac{1}{2}\\vec{K_2} \\right)$ <br>\n",
    "*    $\\vec{K_4}= h \\vec{F}(x_i+h ,\\vec{u}_i + \\vec{K_3}) $ <br>\n",
    "*    $\\vec{u}_{i+1}=\\vec{u}_i + \\frac{1}{6}(\\vec{K_1} + 2\\vec{K_2}+ 2\\vec{K_3} + \\vec{K_4}) $ <br>\n",
    "\n",
    "Fin\n"
   ]
  },
  {
   "cell_type": "markdown",
   "metadata": {},
   "source": [
    "# Ejercicio\n",
    "\n",
    "Realizando modificaciones pertinentes, defina una función que permita estimar soluciones usando RK4 para EDOS de segundo orden.\n",
    "Realice estimaciones del ejemplo 1 y el ejercicio 1 utilizando RK4."
   ]
  },
  {
   "cell_type": "code",
   "execution_count": null,
   "metadata": {},
   "outputs": [],
   "source": []
  },
  {
   "cell_type": "markdown",
   "metadata": {},
   "source": [
    "# Ejercicios adicionales\n",
    "\n",
    "Una masa de $2 [kg]$. se sujeta a un resorte suspendido del techo. Esto ocasiona que el resorte\n",
    "se estire $\\frac{196}{125} [m]$. al llegar al reposo en equilibrio. En el instante $t = 0$, la masa se desplaza\n",
    "$1 [m]$. hacia abajo, y se suelta. En el mismo instante se aplica una fuerza externa $f(t) =\n",
    "\\frac{195}{14} \\cos t  [N]$ al sistema. Si la constante de amortiguación es 6 newton seg/m y considerando $g=9.8 \\left[ \\frac{m}{s^2} \\right]$ determine:\n",
    "\n",
    "* a) El PVI que modela el sistema mecánico."
   ]
  },
  {
   "cell_type": "markdown",
   "metadata": {},
   "source": []
  },
  {
   "cell_type": "markdown",
   "metadata": {},
   "source": [
    "* b) Utilizando el método de Euler, encuentre una aproximación de la posición de la masa al cabo de 1 minuto. Use 10 iteraciones.\n"
   ]
  },
  {
   "cell_type": "code",
   "execution_count": null,
   "metadata": {},
   "outputs": [],
   "source": []
  },
  {
   "cell_type": "markdown",
   "metadata": {},
   "source": [
    "* c) Realice la misma estimación usando RK4.\n"
   ]
  },
  {
   "cell_type": "code",
   "execution_count": null,
   "metadata": {},
   "outputs": [],
   "source": []
  },
  {
   "cell_type": "markdown",
   "metadata": {},
   "source": [
    "* d) Resuelva el PVI de a) utilizando el método de coeficientes indeterminados. Luego calcule el error absoluto cometido en cada uno de los casos. En base a sus resultados, justifique cuál es una mejor aproximación."
   ]
  },
  {
   "cell_type": "code",
   "execution_count": null,
   "metadata": {},
   "outputs": [],
   "source": []
  }
 ],
 "metadata": {
  "kernelspec": {
   "display_name": "Python 3 (ipykernel)",
   "language": "python",
   "name": "python3"
  },
  "language_info": {
   "codemirror_mode": {
    "name": "ipython",
    "version": 3
   },
   "file_extension": ".py",
   "mimetype": "text/x-python",
   "name": "python",
   "nbconvert_exporter": "python",
   "pygments_lexer": "ipython3",
   "version": "3.11.4"
  }
 },
 "nbformat": 4,
 "nbformat_minor": 4
}
