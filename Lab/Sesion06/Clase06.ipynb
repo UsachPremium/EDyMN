{
  "metadata": {
    "kernelspec": {
      "name": "python",
      "display_name": "Python (Pyodide)",
      "language": "python"
    },
    "language_info": {
      "codemirror_mode": {
        "name": "python",
        "version": 3
      },
      "file_extension": ".py",
      "mimetype": "text/x-python",
      "name": "python",
      "nbconvert_exporter": "python",
      "pygments_lexer": "ipython3",
      "version": "3.8"
    }
  },
  "nbformat_minor": 4,
  "nbformat": 4,
  "cells": [
    {
      "cell_type": "code",
      "source": "import matplotlib.pyplot as plt\nimport sympy as sp",
      "metadata": {
        "trusted": true
      },
      "execution_count": 1,
      "outputs": []
    },
    {
      "cell_type": "code",
      "source": "t,s =sp.symbols('t,s')",
      "metadata": {
        "trusted": true
      },
      "execution_count": 2,
      "outputs": []
    },
    {
      "cell_type": "markdown",
      "source": "# Ejercicio 1\n\nSuponga que la transformada de Laplace de la solución de una EDO está dada por\n\n$ \\mathcal{L}\\left\\lbrace x (t) \\right\\rbrace (s) = \\dfrac{(s-1)(s+1)(s-2)(s+2)(s-3)(s+3)}{s^2(s+1)^2(s^2-1)^2} $\n\nencuentre la solución $x(t)$.",
      "metadata": {}
    },
    {
      "cell_type": "code",
      "source": "",
      "metadata": {},
      "execution_count": null,
      "outputs": []
    },
    {
      "cell_type": "markdown",
      "source": "# Ejercicio 2\n\nLa función definida formalmente como\n\n$ \\delta(t-a) = \\left\\lbrace\n\\begin{matrix}\n0 & \\textrm{si} & t\\neq a \\\\\n& &\\\\\n\\infty &  \\textrm{si} & t = a \n\\end{matrix}\n\\right.$\n\nse denomina delta de Dirac o impulso unitario.\n\nPara utilizar dicha función utilizamos el comando sp.DiracDelta.\n\nCalcular la transformada de Laplace de $\\delta(t)$ y $\\delta(t-A)$, para $A \\in \\mathbb{R}$",
      "metadata": {}
    },
    {
      "cell_type": "code",
      "source": "",
      "metadata": {},
      "execution_count": null,
      "outputs": []
    },
    {
      "cell_type": "markdown",
      "source": "# Ejercicio 3\n\ncalcule\n$ \\mathcal{L} \\left\\lbrace f(t)  \\delta(t-A) \\right\\rbrace (s)  $\n\npara \n* $f(t)=t$\n* $f(t)=t^2$\n* $f(t)=t^3$\n* $ f(t) = \\sin (kt) ; k\\in \\mathbb{R}$\n* $ f(t) = \\cos (kt) ; k\\in \\mathbb{R}$\n\nA partir de sus resultados, establezca una una fórmula general para\n$ \\mathcal{L} \\left\\lbrace f(t)  \\delta(t-A) \\right\\rbrace (s)$\ncon $f$ arbitrario.",
      "metadata": {}
    },
    {
      "cell_type": "code",
      "source": "",
      "metadata": {},
      "execution_count": null,
      "outputs": []
    },
    {
      "cell_type": "markdown",
      "source": "## Ejercicio 4\n\nSuponga que tras aplicar transformada de Laplace a un PVI resulta lo siguiente:\n\n$  \\mathcal{L} \\left\\lbrace y(t) \\right\\rbrace (s) =   4 - 2 e^{-3s} \\sin(3) $\n\nCalcule (sin usar python) $y(t)$. ",
      "metadata": {}
    },
    {
      "cell_type": "markdown",
      "source": "## Ejercicio 5\n\nVerifique que su conjetura del ejercicio anterior es correcta calculando \n$\\mathcal{L}^{-1}\\left\\lbrace  4 - 2 e^{-3s} \\sin(3) \\right\\rbrace (t)$\nusando Python.",
      "metadata": {}
    },
    {
      "cell_type": "code",
      "source": "",
      "metadata": {},
      "execution_count": null,
      "outputs": []
    },
    {
      "cell_type": "markdown",
      "source": "## Ejercicio 6\n\nResolver el PVI\n$$ y''' = f(t),  $$\ncon condiciones iniciales $y''(0)=y'(0)=1, y(0)=0$, donde $f$ está definida por\n\n$$\nf(t) = \\left\\lbrace\n\\begin{matrix}\n2 & si & t<3 \\\\\nt & si & 3 \\leq t \\leq 4 \\\\\nte^{A(t-4)} & si & t>4\n\\end{matrix}\n\\right.\n$$",
      "metadata": {}
    },
    {
      "cell_type": "code",
      "source": "A = sp.Symbol(\"A\",real=True)\nf = 2 - 2*sp.Heaviside(t-3)+t*sp.Heaviside(t-3)-t*sp.Heaviside(t-4)+t*sp.exp(A*(t-4))*sp.Heaviside(t-4)\nY = sp.laplace_transform(f,t,s,noconds=True)/s**3+s/s**3+1/s**3\ny = sp.inverse_laplace_transform(Y,s,t,noconds=True)\ny",
      "metadata": {
        "trusted": true
      },
      "execution_count": 9,
      "outputs": [
        {
          "execution_count": 9,
          "output_type": "execute_result",
          "data": {
            "text/plain": "t**2*Heaviside(t)/2 + t*Heaviside(t) + (A**4*(8*t**3*Heaviside(t) - (t - 4)**3*(t + 12)*Heaviside(t - 4) + (t - 3)**3*(t + 9)*Heaviside(t - 3) - 8*(t - 3)**3*Heaviside(t - 3)) + 12*(A**2*(t - 4)**2 + 4*A*(t - 4)*(exp(A*(t - 4)) + 2) - 4*A*(A**2*(t - 4)**2 + 4*A*(t - 4) - 4*exp(A*(t - 4)) + 4) - 12*exp(A*(t - 4)) + 12)*Heaviside(t - 4))/(24*A**4)",
            "text/latex": "$\\displaystyle \\frac{t^{2} \\theta\\left(t\\right)}{2} + t \\theta\\left(t\\right) + \\frac{A^{4} \\cdot \\left(8 t^{3} \\theta\\left(t\\right) - \\left(t - 4\\right)^{3} \\left(t + 12\\right) \\theta\\left(t - 4\\right) + \\left(t - 3\\right)^{3} \\left(t + 9\\right) \\theta\\left(t - 3\\right) - 8 \\left(t - 3\\right)^{3} \\theta\\left(t - 3\\right)\\right) + 12 \\left(A^{2} \\left(t - 4\\right)^{2} + 4 A \\left(t - 4\\right) \\left(e^{A \\left(t - 4\\right)} + 2\\right) - 4 A \\left(A^{2} \\left(t - 4\\right)^{2} + 4 A \\left(t - 4\\right) - 4 e^{A \\left(t - 4\\right)} + 4\\right) - 12 e^{A \\left(t - 4\\right)} + 12\\right) \\theta\\left(t - 4\\right)}{24 A^{4}}$"
          },
          "metadata": {}
        }
      ]
    },
    {
      "cell_type": "markdown",
      "source": "## Ejercicio 7\n\nPara calcular derivadas, podemos utilizar el comando sp.diff( funcion , variable respecto a la que se deriva )\n\nPor ejemplo, si $f(t)= At^3$, entonces su derivada se puede calcular vía",
      "metadata": {}
    },
    {
      "cell_type": "code",
      "source": "A=sp.Symbol('A')\nsp.diff(A*t**2, t)",
      "metadata": {},
      "execution_count": 5,
      "outputs": [
        {
          "execution_count": 5,
          "output_type": "execute_result",
          "data": {
            "text/latex": [
              "$\\displaystyle 2 A t$"
            ],
            "text/plain": [
              "2*A*t"
            ]
          },
          "metadata": {}
        }
      ]
    },
    {
      "cell_type": "markdown",
      "source": "Más aun, se puede agregar una tercera entrada para indicar el orden de derivación, por ejemplo, si se desea calcular la segunda y tercera derivada de la misma función, utilizamos",
      "metadata": {}
    },
    {
      "cell_type": "code",
      "source": "sp.diff(A*t**2, t, 2)",
      "metadata": {},
      "execution_count": 6,
      "outputs": [
        {
          "execution_count": 6,
          "output_type": "execute_result",
          "data": {
            "text/latex": [
              "$\\displaystyle 2 A$"
            ],
            "text/plain": [
              "2*A"
            ]
          },
          "metadata": {}
        }
      ]
    },
    {
      "cell_type": "code",
      "source": "sp.diff(A*t**2, t, 3)",
      "metadata": {},
      "execution_count": 7,
      "outputs": [
        {
          "execution_count": 7,
          "output_type": "execute_result",
          "data": {
            "text/latex": [
              "$\\displaystyle 0$"
            ],
            "text/plain": [
              "0"
            ]
          },
          "metadata": {}
        }
      ]
    },
    {
      "cell_type": "markdown",
      "source": "Utilizando el teorema que establece (bajo ciertas condiciones) que \n\n$$ \\mathcal{L} \\left\\lbrace t^n f(t) \\right\\rbrace (s) = (-1)^{n} \\frac{d^n}{dt^n} \\mathcal{L} \\left\\lbrace f(t) \\right\\rbrace (s)  $$\n\nCalcule la transformada de Laplace de:\n\n* $g(t)= t^{21} \\sin(4t)$\n* $g(t)=t^{7} e^{-2t}\\cos t$\n* $g(t)=t^{4} e^{-4t}\\cos t \\sin (2t)$\n",
      "metadata": {}
    },
    {
      "cell_type": "code",
      "source": "",
      "metadata": {},
      "execution_count": null,
      "outputs": []
    }
  ]
}