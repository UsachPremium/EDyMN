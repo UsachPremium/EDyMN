{
 "cells": [
  {
   "cell_type": "code",
   "execution_count": 12,
   "metadata": {},
   "outputs": [],
   "source": [
    "import matplotlib.pyplot as plt\n",
    "import sympy as sp\n",
    "import numpy as np"
   ]
  },
  {
   "cell_type": "markdown",
   "metadata": {},
   "source": [
    "# Problema 1:\n",
    "\n",
    "* a) Con la ayuda de la librería `sympy`, determine $\\mathcal{L}\\left\\lbrace \\dfrac{1}{\\sqrt{t}} \\right\\rbrace$. A partir de su resultado deduzca $\\mathcal{L}^{-1}\\left\\lbrace \\dfrac{1}{\\sqrt{s}} \\right\\rbrace$ \n",
    "\n",
    "* b) Usando el resultado anterior, resuelva la ecuación integral\n",
    "\n",
    "$$ C = \\int_{0}^{t} \\frac{f(t)}{\\sqrt{t-\\tau}} d\\tau $$\n",
    "\n",
    "para $C\\in \\mathbb{R}$ y $f$ función incógnita.\n",
    "\n",
    "Recuerde que\n",
    "$$(f * g)(t) =  \\int_{0}^{t} f(t)g(t-\\tau) d\\tau $$\n",
    "y\n",
    "$$ \\mathcal{L}\\lbrace f * g \\rbrace = \\mathcal{L}\\lbrace f \\rbrace \\mathcal{L}\\lbrace g \\rbrace $$\n",
    "\n",
    "# Solución: "
   ]
  },
  {
   "cell_type": "code",
   "execution_count": null,
   "metadata": {},
   "outputs": [],
   "source": []
  },
  {
   "cell_type": "markdown",
   "metadata": {},
   "source": [
    "# Problema 2:\n",
    "\n",
    "La función error de aparece en teoría de probabilidad y se define como\n",
    "$$erf(t)=\\frac{2}{\\sqrt{\\pi}}\\int_{0}^{t}e^{-x^2}dx$$\n",
    "\n",
    "esta función está incorporada en la librería `sympy` definida por `sp.erf(t)` (definiendo previamente el simbolo `t`)\n",
    "\n",
    "* a) Usando el comando `checkodesol` verifique que $y=c_1 erf(t)+c_2$ es solución general de la EDO homogénea\n",
    "$$y'' + 2t y'=0$$\n",
    "\n",
    "* b) Calcule $\\mathcal{L}\\lbrace erf(\\sqrt{t}) \\rbrace$.\n",
    "\n",
    "* c) Sin utilizar el comando `dsol`, pero con ayuda de `sympy`, resuelva el PVI\n",
    "\n",
    "$$y' = erf(t) + t \\quad , \\quad y(0)=-1$$"
   ]
  },
  {
   "cell_type": "markdown",
   "metadata": {},
   "source": [
    "# Solución: "
   ]
  },
  {
   "cell_type": "code",
   "execution_count": null,
   "metadata": {},
   "outputs": [],
   "source": []
  },
  {
   "cell_type": "markdown",
   "metadata": {},
   "source": [
    "# Problema 3:\n",
    "\n",
    "Se sabe que, para $f(t)=t^n$ con $n\\in \\mathbb{N}$\n",
    "$$\\mathcal{L}\\lbrace t^n \\rbrace = \\frac{n!}{s^{n+1}}$$\n",
    "sin embargo, esta fórmula deja de ser cierta si $n \\in \\mathbb{R}$.\n",
    "\n",
    "* a) Usando librería sympy, calcule $\\mathcal{L}\\lbrace t^{\\frac{p}{2}} \\rbrace$ para $p=1,3,5,7$. \n",
    "\n",
    "Sugerencia: Se recomienda utilizar `sp.Rational(a,b)` para representar números racionales de la forma $\\frac{a}{b}$.\n",
    "\n",
    "* b) A partir de los resultados de a) deduzca una fórmula para $\\mathcal{L}\\lbrace t^{\\frac{2n-1}{2}} \\rbrace$ para $ n \\in \\mathbb{N}$\n",
    "\n",
    "* c) Usando estos resultados, resuelva el PVI\n",
    "\n",
    "$$y' = \\sqrt{t} \\quad ; \\quad y(0)=1$$\n",
    "\n",
    "# Solución:"
   ]
  },
  {
   "cell_type": "code",
   "execution_count": null,
   "metadata": {},
   "outputs": [],
   "source": []
  }
 ],
 "metadata": {
  "kernelspec": {
   "display_name": "Python 3 (ipykernel)",
   "language": "python",
   "name": "python3"
  },
  "language_info": {
   "codemirror_mode": {
    "name": "ipython",
    "version": 3
   },
   "file_extension": ".py",
   "mimetype": "text/x-python",
   "name": "python",
   "nbconvert_exporter": "python",
   "pygments_lexer": "ipython3",
   "version": "3.11.4"
  }
 },
 "nbformat": 4,
 "nbformat_minor": 4
}
